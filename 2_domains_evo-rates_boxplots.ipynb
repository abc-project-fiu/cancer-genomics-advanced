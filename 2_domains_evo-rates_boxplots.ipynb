{
 "cells": [
  {
   "cell_type": "code",
   "execution_count": null,
   "id": "45c78b40",
   "metadata": {},
   "outputs": [],
   "source": [
    "%matplotlib inline"
   ]
  },
  {
   "cell_type": "code",
   "execution_count": null,
   "id": "b93cc8bc",
   "metadata": {},
   "outputs": [],
   "source": [
    "\n",
    "from scipy.stats import mannwhitneyu\n",
    "from scipy.stats import ttest_ind\n",
    "import matplotlib.pyplot as plt"
   ]
  },
  {
   "cell_type": "markdown",
   "id": "74ba4cb3",
   "metadata": {
    "cell_marker": "######################################################################################"
   },
   "source": [
    "################# READ THIS FIRST ###################################################\n",
    "#####################################################################################"
   ]
  },
  {
   "cell_type": "code",
   "execution_count": null,
   "id": "59e9179c",
   "metadata": {},
   "outputs": [],
   "source": [
    "# Any statement that starts with a number sign is not read by Python, but it has information for you.\n",
    "# For data, you will be adding the data that you want to compare. Be sure to transpose as before.\n",
    "# First, replace the example data with the data you are comparing, e.g., evolutionary rates between pathogenic versus benign sites for your protein. \n",
    "# As before, you can also customize your box plot colors where specified.\n",
    "# Second, under Run, select Run all Cells. After several seconds, a p-value and box plot will appear at the bottom of the screen.\n",
    "# The script also generates a png showing the data as boxplot. Under Files (on the left), right-click and download your box plot.\n",
    "# Lastly, make note of the p-value(s) provided after running the script in your electronic lab notebook."
   ]
  },
  {
   "cell_type": "markdown",
   "id": "f9ad1f1d",
   "metadata": {
    "cell_marker": "# ##############################################################################"
   },
   "source": [
    "Change the names of Domain1 and Domain2 with the names of your selected domains.\n",
    "Then, replace the example data below with your data."
   ]
  },
  {
   "cell_type": "code",
   "execution_count": null,
   "id": "80d4b535",
   "metadata": {},
   "outputs": [],
   "source": [
    "Domain1 = 'p53_DBD'\n",
    "Domain2 = 'p53_TAD'\n",
    "\n",
    "Rates_Domain1 = 7,5,7,6,4,9,1,4,1,8,1,7,4,9,5,4,8,7,8,9,9,9,8,8,7,9,6,9,4,1,9,8,9,9,5,9,9,8,8,9,9,8,9,8,8,6,4,7,1,3,2,8,9,1,7,6,3,5,9,9,8,9,7,8,9,8,7,8,9,8,8,7,9,9,7,9,9,9,9,9,8,7,4,5,7,6,6,3,2,7,8,5,7,9,9,9,9,8,9,8,7,5,4,7,4,9,1,6,9,1,4,9,4,9,7,9,9,4,7,8,9,9,1,9,9,7,9,8,6,1,9,9,6,9,8,8,6,9,9,9,9,9,9,9,9,9,9,9,9,9,9,9,7,8,9,8,9,9,9,7,3,4,9,5,6,9,9,9,6,7,8,9,9,9,7,9,9,9,9,9,9,9,9,8,7,8,9,4,7\n",
    "Rates_Domain2 = 5,6,2,2,2,3,3,8,4,7,8,6,7,9,5,1,4,7,1,4,5,5,1,1,1,1,1,2,2,1,1,1,1,3,1,3,1,1,3,1,1,1,1,1,5,1,1,1,10,10"
   ]
  },
  {
   "cell_type": "markdown",
   "id": "cb73bcd1",
   "metadata": {
    "cell_marker": "########################################################################################"
   },
   "source": [
    "################# HERE YOU CAN SPECIFY WHICH COLORS TO USE ############################\n",
    "#######################################################################################"
   ]
  },
  {
   "cell_type": "code",
   "execution_count": null,
   "id": "3e94db89",
   "metadata": {},
   "outputs": [],
   "source": [
    "colors = ['#B5D3E7', '#FEE11A'] # You can replace the HEX CODES as you wish. Google color and HEX CODE to find your colors."
   ]
  },
  {
   "cell_type": "markdown",
   "id": "9604c316",
   "metadata": {
    "cell_marker": "########################################################################################"
   },
   "source": [
    "########################## *** NOTHING MORE TO CHANGE *** #############################\n",
    "############################### *** RUN THE SCRIPT *** ################################\n",
    "#######################################################################################"
   ]
  },
  {
   "cell_type": "code",
   "execution_count": null,
   "id": "9e811406",
   "metadata": {},
   "outputs": [],
   "source": [
    "data1 = eval('Rates_Domain1')    \n",
    "data2 = eval('Rates_Domain2')\n",
    "\n",
    "test_name=\"mann_wu\"                            \n",
    "\n",
    "# hypothesis test & results\n",
    "stat, p = mannwhitneyu(data1, data2)\n",
    "print('\\nHypothesis testing with Mann-Whitney for '+Domain1+' & '+Domain2+':')                         \n",
    "print('pvalue=%.3f' % (p))\n",
    "\n",
    "data=[data1, data2]\n",
    "fig1, ax1 = plt.subplots(figsize=(10, 10)) #You can change the size of the figure\n",
    "max_height =max(max(data1),max(data2)) # max height of data needed for plotting location siginifcance bars\n",
    "ax1.boxplot(data)\n",
    "\n",
    "medianprops = dict(linestyle='-', linewidth=2.0, color='grey') #You can change how your median looks\n",
    "meanpointprops = dict(marker='.', markersize=16, markeredgecolor='black', markerfacecolor='black') #You can change how the mean marker looks\n",
    "box = plt.boxplot(data, widths = 0.6, patch_artist=True, medianprops=medianprops, meanprops=meanpointprops, meanline=False, showmeans=True)\n",
    "          \n",
    "for patch, color in zip(box['boxes'], colors):\n",
    "    patch.set_facecolor(color)  \n",
    "ax1.set_title('Evolutionary rates', fontsize = 30, weight='bold')    \n",
    "plt.xticks([1, 2], [Domain1, Domain2], fontsize = 30) #Change text as needed for the data you are showing\n",
    "plt.yticks(fontsize = 24) #Change the tickmarks and axis to fix the data\n",
    "\n",
    "plt.savefig('rates_2_domains_boxplot.png'.format(Domain1, Domain2), dpi=600)"
   ]
  }
 ],
 "metadata": {
  "jupytext": {
   "cell_metadata_filter": "-all",
   "encoding": "# -*- coding: utf-8 -*-",
   "formats": "ipynb,py",
   "main_language": "python"
  }
 },
 "nbformat": 4,
 "nbformat_minor": 5
}
